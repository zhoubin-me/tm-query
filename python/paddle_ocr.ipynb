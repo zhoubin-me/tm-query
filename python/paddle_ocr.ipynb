{
 "cells": [
  {
   "cell_type": "code",
   "execution_count": 1,
   "id": "86fc4a8f-5827-43fa-b82a-6eb2e1b8b70b",
   "metadata": {},
   "outputs": [
    {
     "name": "stderr",
     "output_type": "stream",
     "text": [
      "/home/bzhou/ws/tm-query/python/.venv/lib/python3.12/site-packages/paddleocr/ppocr/postprocess/rec_postprocess.py:1229: SyntaxWarning: invalid escape sequence '\\W'\n",
      "  noletter = \"[\\W_^\\d]\"\n",
      "/home/bzhou/ws/tm-query/python/.venv/lib/python3.12/site-packages/paddleocr/ppocr/postprocess/rec_postprocess.py:1455: SyntaxWarning: invalid escape sequence '\\W'\n",
      "  noletter = \"[\\W_^\\d]\"\n",
      "/home/bzhou/ws/tm-query/python/.venv/lib/python3.12/site-packages/tqdm/auto.py:21: TqdmWarning: IProgress not found. Please update jupyter and ipywidgets. See https://ipywidgets.readthedocs.io/en/stable/user_install.html\n",
      "  from .autonotebook import tqdm as notebook_tqdm\n"
     ]
    }
   ],
   "source": [
    "from paddleocr import PaddleOCR\n",
    "\n"
   ]
  },
  {
   "cell_type": "code",
   "execution_count": 20,
   "id": "991e20f8-8948-4956-9aaa-fa059cc640c3",
   "metadata": {},
   "outputs": [],
   "source": [
    "# 素天下\n",
    "image_path = \"/home/bzhou/ws/tm-query/python/dset/imgs/T1007761B_T1007761B.jpg\"\n",
    "\n",
    "# 真血\n",
    "image_path = \"/home/bzhou/ws/tm-query/python/dset/imgs/T1103840H_T1103840H.jpg\"\n",
    "\n",
    "# 佰达\n",
    "image_path = \"/home/bzhou/ws/tm-query/python/dset/imgs/T1318337E_T1318337E.jpg\"\n",
    "\n",
    "image_path = \"/home/bzhou/ws/tm-query/python/dset/imgs/T1116311C_T1116311C.jpg\"\n",
    "\n",
    "image_path = \"/home/bzhou/ws/tm-query/python/dset/imgs/T1113931Z_T1113931Z.jpg\"\n"
   ]
  },
  {
   "cell_type": "code",
   "execution_count": 21,
   "id": "842b5e13-2a47-4539-8edd-5a90248616c7",
   "metadata": {},
   "outputs": [
    {
     "name": "stdout",
     "output_type": "stream",
     "text": [
      "[2025/03/24 02:09:00] ppocr DEBUG: Namespace(help='==SUPPRESS==', use_gpu=True, use_xpu=False, use_npu=False, use_mlu=False, use_gcu=False, ir_optim=True, use_tensorrt=False, min_subgraph_size=15, precision='fp32', gpu_mem=500, gpu_id=0, image_dir=None, page_num=0, det_algorithm='DB', det_model_dir='/home/bzhou/.paddleocr/whl/det/ch/ch_PP-OCRv4_det_infer', det_limit_side_len=960, det_limit_type='max', det_box_type='quad', det_db_thresh=0.3, det_db_box_thresh=0.6, det_db_unclip_ratio=1.5, max_batch_size=10, use_dilation=False, det_db_score_mode='fast', det_east_score_thresh=0.8, det_east_cover_thresh=0.1, det_east_nms_thresh=0.2, det_sast_score_thresh=0.5, det_sast_nms_thresh=0.2, det_pse_thresh=0, det_pse_box_thresh=0.85, det_pse_min_area=16, det_pse_scale=1, scales=[8, 16, 32], alpha=1.0, beta=1.0, fourier_degree=5, rec_algorithm='SVTR_LCNet', rec_model_dir='/home/bzhou/.paddleocr/whl/rec/ch/ch_PP-OCRv4_rec_infer', rec_image_inverse=True, rec_image_shape='3, 48, 320', rec_batch_num=6, max_text_length=25, rec_char_dict_path='/home/bzhou/ws/tm-query/python/.venv/lib/python3.12/site-packages/paddleocr/ppocr/utils/ppocr_keys_v1.txt', use_space_char=True, vis_font_path='./doc/fonts/simfang.ttf', drop_score=0.5, e2e_algorithm='PGNet', e2e_model_dir=None, e2e_limit_side_len=768, e2e_limit_type='max', e2e_pgnet_score_thresh=0.5, e2e_char_dict_path='./ppocr/utils/ic15_dict.txt', e2e_pgnet_valid_set='totaltext', e2e_pgnet_mode='fast', use_angle_cls=False, cls_model_dir='/home/bzhou/.paddleocr/whl/cls/ch_ppocr_mobile_v2.0_cls_infer', cls_image_shape='3, 48, 192', label_list=['0', '180'], cls_batch_num=6, cls_thresh=0.9, enable_mkldnn=False, cpu_threads=10, use_pdserving=False, warmup=False, sr_model_dir=None, sr_image_shape='3, 32, 128', sr_batch_num=1, draw_img_save_dir='./inference_results', save_crop_res=False, crop_res_save_dir='./output', use_mp=False, total_process_num=1, process_id=0, benchmark=False, save_log_path='./log_output/', show_log=True, use_onnx=False, onnx_providers=False, onnx_sess_options=False, return_word_box=False, output='./output', table_max_len=488, table_algorithm='TableAttn', table_model_dir=None, merge_no_span_structure=True, table_char_dict_path=None, formula_algorithm='LaTeXOCR', formula_model_dir=None, formula_char_dict_path=None, formula_batch_num=1, layout_model_dir=None, layout_dict_path=None, layout_score_threshold=0.5, layout_nms_threshold=0.5, kie_algorithm='LayoutXLM', ser_model_dir=None, re_model_dir=None, use_visual_backbone=True, ser_dict_path='../train_data/XFUND/class_list_xfun.txt', ocr_order_method=None, mode='structure', image_orientation=False, layout=True, table=True, formula=False, ocr=True, recovery=False, recovery_to_markdown=False, use_pdf2docx_api=False, invert=False, binarize=False, alphacolor=(255, 255, 255), lang='ch', det=True, rec=True, type='ocr', savefile=False, ocr_version='PP-OCRv4', structure_version='PP-StructureV2')\n",
      "[2025/03/24 02:09:00] ppocr WARNING: The first GPU is used for inference by default, GPU ID: 0\n",
      "[2025/03/24 02:09:00] ppocr WARNING: The first GPU is used for inference by default, GPU ID: 0\n",
      "('土俗村蓼湯', 0.9737526774406433)\n"
     ]
    }
   ],
   "source": [
    "ocr = PaddleOCR(lang='ch') # need to run only once to load model into memory\n",
    "result = ocr.ocr(image_path, det=False, cls=False)\n",
    "for idx in range(len(result)):\n",
    "    res = result[idx]\n",
    "    for line in res:\n",
    "        print(line)"
   ]
  },
  {
   "cell_type": "code",
   "execution_count": null,
   "id": "881575bd-0fd7-4ccb-b8ec-dfa1d10515ab",
   "metadata": {},
   "outputs": [],
   "source": []
  }
 ],
 "metadata": {
  "kernelspec": {
   "display_name": "Python 3 (ipykernel)",
   "language": "python",
   "name": "python3"
  },
  "language_info": {
   "codemirror_mode": {
    "name": "ipython",
    "version": 3
   },
   "file_extension": ".py",
   "mimetype": "text/x-python",
   "name": "python",
   "nbconvert_exporter": "python",
   "pygments_lexer": "ipython3",
   "version": "3.12.9"
  }
 },
 "nbformat": 4,
 "nbformat_minor": 5
}
