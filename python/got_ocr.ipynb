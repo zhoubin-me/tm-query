{
 "cells": [
  {
   "cell_type": "code",
   "execution_count": 11,
   "id": "fa461e52-ae55-4b74-8a46-f3ca0393aa48",
   "metadata": {},
   "outputs": [],
   "source": [
    "from transformers import AutoModel, AutoTokenizer\n",
    "\n"
   ]
  },
  {
   "cell_type": "code",
   "execution_count": null,
   "id": "93a8c975-f6b4-482c-93c2-da85e774e447",
   "metadata": {},
   "outputs": [],
   "source": []
  },
  {
   "cell_type": "code",
   "execution_count": 13,
   "id": "13af1fd3-ae58-4349-9cf0-9dca0c6ac78b",
   "metadata": {},
   "outputs": [],
   "source": [
    "tokenizer = AutoTokenizer.from_pretrained('ucaslcl/GOT-OCR2_0', trust_remote_code=True)\n",
    "model = AutoModel.from_pretrained('ucaslcl/GOT-OCR2_0', trust_remote_code=True, low_cpu_mem_usage=True, device_map='cuda', use_safetensors=True, pad_token_id=tokenizer.eos_token_id)\n",
    "model = model.eval().cuda()\n",
    "\n",
    "\n",
    "\n",
    "# plain texts OCR\n"
   ]
  },
  {
   "cell_type": "code",
   "execution_count": 10,
   "id": "99f3e1e8-f00f-41ce-b22a-aa8020d6b586",
   "metadata": {},
   "outputs": [
    {
     "name": "stderr",
     "output_type": "stream",
     "text": [
      "The attention mask and the pad token id were not set. As a consequence, you may observe unexpected behavior. Please pass your input's `attention_mask` to obtain reliable results.\n",
      "Setting `pad_token_id` to `eos_token_id`:151643 for open-end generation.\n"
     ]
    },
    {
     "name": "stdout",
     "output_type": "stream",
     "text": [
      "素天价\n"
     ]
    }
   ],
   "source": [
    "# 素天下\n",
    "image_path = \"/home/bzhou/ws/tm-query/python/dset/imgs/T1007761B_T1007761B.jpg\"\n",
    "\n",
    "# 真血\n",
    "image_path = \"/home/bzhou/ws/tm-query/python/dset/imgs/T1103840H_T1103840H.jpg\"\n",
    "\n",
    "# 佰达\n",
    "# image_path = \"/home/bzhou/ws/tm-query/python/dset/imgs/T1318337E_T1318337E.jpg\"\n",
    "\n",
    "# image_path = \"/home/bzhou/ws/tm-query/python/dset/imgs/T1116311C_T1116311C.jpg\"\n",
    "\n",
    "# image_path = \"/home/bzhou/ws/tm-query/python/dset/imgs/T1113931Z_T1113931Z.jpg\"\n",
    "res = model.chat(tokenizer, image_path, ocr_type='ocr')\n",
    "print(res)"
   ]
  },
  {
   "cell_type": "code",
   "execution_count": null,
   "id": "21238434-7a25-4a29-98f8-d548b0c54b08",
   "metadata": {},
   "outputs": [],
   "source": []
  }
 ],
 "metadata": {
  "kernelspec": {
   "display_name": "Python 3 (ipykernel)",
   "language": "python",
   "name": "python3"
  },
  "language_info": {
   "codemirror_mode": {
    "name": "ipython",
    "version": 3
   },
   "file_extension": ".py",
   "mimetype": "text/x-python",
   "name": "python",
   "nbconvert_exporter": "python",
   "pygments_lexer": "ipython3",
   "version": "3.12.9"
  }
 },
 "nbformat": 4,
 "nbformat_minor": 5
}
