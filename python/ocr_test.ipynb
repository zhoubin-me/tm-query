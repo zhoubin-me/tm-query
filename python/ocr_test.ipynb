{
 "cells": [
  {
   "cell_type": "code",
   "execution_count": 18,
   "id": "c98ec46d-f4b8-4515-99a6-e8772cca43cf",
   "metadata": {},
   "outputs": [
    {
     "name": "stderr",
     "output_type": "stream",
     "text": [
      "which: no ccache in (/home/bzhou/ws/tm-query/python/.venv/bin:/opt/flutter/bin:/home/bzhou/.local/bin:/home/bzhou/.codon/bin:/opt/cuda/bin:/home/bzhou/.cargo/bin:/usr/local/bin:/usr/bin:/usr/bin/site_perl:/usr/bin/vendor_perl:/usr/bin/core_perl)\n",
      "/home/bzhou/ws/tm-query/python/.venv/lib/python3.12/site-packages/paddle/utils/cpp_extension/extension_utils.py:711: UserWarning: No ccache found. Please be aware that recompiling all source files may be required. You can download and install ccache from: https://github.com/ccache/ccache/blob/master/doc/INSTALL.md\n",
      "  warnings.warn(warning_message)\n",
      "/home/bzhou/ws/tm-query/python/.venv/lib/python3.12/site-packages/paddleocr/ppocr/postprocess/rec_postprocess.py:1229: SyntaxWarning: invalid escape sequence '\\W'\n",
      "  noletter = \"[\\W_^\\d]\"\n",
      "/home/bzhou/ws/tm-query/python/.venv/lib/python3.12/site-packages/paddleocr/ppocr/postprocess/rec_postprocess.py:1455: SyntaxWarning: invalid escape sequence '\\W'\n",
      "  noletter = \"[\\W_^\\d]\"\n"
     ]
    }
   ],
   "source": [
    "from paddleocr import PaddleOCR\n"
   ]
  },
  {
   "cell_type": "code",
   "execution_count": 22,
   "id": "827a570e-3f9c-4490-8d7a-16fea4cb62bc",
   "metadata": {},
   "outputs": [
    {
     "name": "stdout",
     "output_type": "stream",
     "text": [
      "download https://paddleocr.bj.bcebos.com/PP-OCRv3/english/en_PP-OCRv3_det_infer.tar to /home/bzhou/.paddleocr/whl/det/en/en_PP-OCRv3_det_infer/en_PP-OCRv3_det_infer.tar\n"
     ]
    },
    {
     "name": "stderr",
     "output_type": "stream",
     "text": [
      "100%|███████████████████████████████████████████████████████████████████████████████████████████████████████████████████████████████████████████████████| 3910/3910 [00:09<00:00, 427.45it/s]\n"
     ]
    },
    {
     "name": "stdout",
     "output_type": "stream",
     "text": [
      "download https://paddleocr.bj.bcebos.com/PP-OCRv4/english/en_PP-OCRv4_rec_infer.tar to /home/bzhou/.paddleocr/whl/rec/en/en_PP-OCRv4_rec_infer/en_PP-OCRv4_rec_infer.tar\n"
     ]
    },
    {
     "name": "stderr",
     "output_type": "stream",
     "text": [
      "100%|█████████████████████████████████████████████████████████████████████████████████████████████████████████████████████████████████████████████████| 10000/10000 [00:12<00:00, 808.22it/s]"
     ]
    },
    {
     "name": "stdout",
     "output_type": "stream",
     "text": [
      "[2025/03/23 22:14:12] ppocr DEBUG: Namespace(help='==SUPPRESS==', use_gpu=True, use_xpu=False, use_npu=False, use_mlu=False, use_gcu=False, ir_optim=True, use_tensorrt=False, min_subgraph_size=15, precision='fp32', gpu_mem=500, gpu_id=0, image_dir=None, page_num=0, det_algorithm='DB', det_model_dir='/home/bzhou/.paddleocr/whl/det/en/en_PP-OCRv3_det_infer', det_limit_side_len=960, det_limit_type='max', det_box_type='quad', det_db_thresh=0.3, det_db_box_thresh=0.6, det_db_unclip_ratio=1.5, max_batch_size=10, use_dilation=False, det_db_score_mode='fast', det_east_score_thresh=0.8, det_east_cover_thresh=0.1, det_east_nms_thresh=0.2, det_sast_score_thresh=0.5, det_sast_nms_thresh=0.2, det_pse_thresh=0, det_pse_box_thresh=0.85, det_pse_min_area=16, det_pse_scale=1, scales=[8, 16, 32], alpha=1.0, beta=1.0, fourier_degree=5, rec_algorithm='SVTR_LCNet', rec_model_dir='/home/bzhou/.paddleocr/whl/rec/en/en_PP-OCRv4_rec_infer', rec_image_inverse=True, rec_image_shape='3, 48, 320', rec_batch_num=6, max_text_length=25, rec_char_dict_path='/home/bzhou/ws/tm-query/python/.venv/lib/python3.12/site-packages/paddleocr/ppocr/utils/en_dict.txt', use_space_char=True, vis_font_path='./doc/fonts/simfang.ttf', drop_score=0.5, e2e_algorithm='PGNet', e2e_model_dir=None, e2e_limit_side_len=768, e2e_limit_type='max', e2e_pgnet_score_thresh=0.5, e2e_char_dict_path='./ppocr/utils/ic15_dict.txt', e2e_pgnet_valid_set='totaltext', e2e_pgnet_mode='fast', use_angle_cls=False, cls_model_dir='/home/bzhou/.paddleocr/whl/cls/ch_ppocr_mobile_v2.0_cls_infer', cls_image_shape='3, 48, 192', label_list=['0', '180'], cls_batch_num=6, cls_thresh=0.9, enable_mkldnn=False, cpu_threads=10, use_pdserving=False, warmup=False, sr_model_dir=None, sr_image_shape='3, 32, 128', sr_batch_num=1, draw_img_save_dir='./inference_results', save_crop_res=False, crop_res_save_dir='./output', use_mp=False, total_process_num=1, process_id=0, benchmark=False, save_log_path='./log_output/', show_log=True, use_onnx=False, onnx_providers=False, onnx_sess_options=False, return_word_box=False, output='./output', table_max_len=488, table_algorithm='TableAttn', table_model_dir=None, merge_no_span_structure=True, table_char_dict_path=None, formula_algorithm='LaTeXOCR', formula_model_dir=None, formula_char_dict_path=None, formula_batch_num=1, layout_model_dir=None, layout_dict_path=None, layout_score_threshold=0.5, layout_nms_threshold=0.5, kie_algorithm='LayoutXLM', ser_model_dir=None, re_model_dir=None, use_visual_backbone=True, ser_dict_path='../train_data/XFUND/class_list_xfun.txt', ocr_order_method=None, mode='structure', image_orientation=False, layout=True, table=True, formula=False, ocr=True, recovery=False, recovery_to_markdown=False, use_pdf2docx_api=False, invert=False, binarize=False, alphacolor=(255, 255, 255), lang='en', det=True, rec=True, type='ocr', savefile=False, ocr_version='PP-OCRv4', structure_version='PP-StructureV2')\n",
      "[2025/03/23 22:14:12] ppocr WARNING: The first GPU is used for inference by default, GPU ID: 0\n"
     ]
    },
    {
     "name": "stderr",
     "output_type": "stream",
     "text": [
      "\n"
     ]
    },
    {
     "name": "stdout",
     "output_type": "stream",
     "text": [
      "[2025/03/23 22:14:13] ppocr WARNING: The first GPU is used for inference by default, GPU ID: 0\n",
      "('', 0.0)\n"
     ]
    }
   ],
   "source": [
    "ocr = PaddleOCR(lang='en') # need to run only once to load model into memory\n",
    "img_path = '/home/bzhou/ws/tm-query/python/dset/imgs/T1007761B_T1007761B.jpg'\n",
    "result = ocr.ocr(img_path, det=False, cls=False)\n",
    "for idx in range(len(result)):\n",
    "    res = result[idx]\n",
    "    for line in res:\n",
    "        print(line)"
   ]
  },
  {
   "cell_type": "code",
   "execution_count": 19,
   "id": "d13a820a-dfa7-4b99-8193-a5937c7deedd",
   "metadata": {},
   "outputs": [
    {
     "name": "stdout",
     "output_type": "stream",
     "text": [
      "Help on class PaddleOCR in module paddleocr.paddleocr:\n",
      "\n",
      "class PaddleOCR(tools.infer.predict_system.TextSystem)\n",
      " |  PaddleOCR(**kwargs)\n",
      " |\n",
      " |  Method resolution order:\n",
      " |      PaddleOCR\n",
      " |      tools.infer.predict_system.TextSystem\n",
      " |      builtins.object\n",
      " |\n",
      " |  Methods defined here:\n",
      " |\n",
      " |  __init__(self, **kwargs)\n",
      " |      paddleocr package\n",
      " |      args:\n",
      " |          **kwargs: other params show in paddleocr --help\n",
      " |\n",
      " |  ocr(self, img, det=True, rec=True, cls=True, bin=False, inv=False, alpha_color=(255, 255, 255), slice={})\n",
      " |      OCR with PaddleOCR\n",
      " |\n",
      " |      Args:\n",
      " |          img: Image for OCR. It can be an ndarray, img_path, or a list of ndarrays.\n",
      " |          det: Use text detection or not. If False, only text recognition will be executed. Default is True.\n",
      " |          rec: Use text recognition or not. If False, only text detection will be executed. Default is True.\n",
      " |          cls: Use angle classifier or not. Default is True. If True, the text with a rotation of 180 degrees can be recognized. If no text is rotated by 180 degrees, use cls=False to get better performance.\n",
      " |          bin: Binarize image to black and white. Default is False.\n",
      " |          inv: Invert image colors. Default is False.\n",
      " |          alpha_color: Set RGB color Tuple for transparent parts replacement. Default is pure white.\n",
      " |          slice: Use sliding window inference for large images. Both det and rec must be True. Requires int values for slice[\"horizontal_stride\"], slice[\"vertical_stride\"], slice[\"merge_x_thres\"], slice[\"merge_y_thres\"] (See doc/doc_en/slice_en.md). Default is {}.\n",
      " |\n",
      " |      Returns:\n",
      " |          If both det and rec are True, returns a list of OCR results for each image. Each OCR result is a list of bounding boxes and recognized text for each detected text region.\n",
      " |          If det is True and rec is False, returns a list of detected bounding boxes for each image.\n",
      " |          If det is False and rec is True, returns a list of recognized text for each image.\n",
      " |          If both det and rec are False, returns a list of angle classification results for each image.\n",
      " |\n",
      " |      Raises:\n",
      " |          AssertionError: If the input image is not of type ndarray, list, str, or bytes.\n",
      " |          SystemExit: If det is True and the input is a list of images.\n",
      " |\n",
      " |      Note:\n",
      " |          - If the angle classifier is not initialized (use_angle_cls=False), it will not be used during the forward process.\n",
      " |          - For PDF files, if the input is a list of images and the page_num is specified, only the first page_num images will be processed.\n",
      " |          - The preprocess_image function is used to preprocess the input image by applying alpha color replacement, inversion, and binarization if specified.\n",
      " |\n",
      " |  ----------------------------------------------------------------------\n",
      " |  Methods inherited from tools.infer.predict_system.TextSystem:\n",
      " |\n",
      " |  __call__(self, img, cls=True, slice={})\n",
      " |      Call self as a function.\n",
      " |\n",
      " |  draw_crop_rec_res(self, output_dir, img_crop_list, rec_res)\n",
      " |\n",
      " |  ----------------------------------------------------------------------\n",
      " |  Data descriptors inherited from tools.infer.predict_system.TextSystem:\n",
      " |\n",
      " |  __dict__\n",
      " |      dictionary for instance variables\n",
      " |\n",
      " |  __weakref__\n",
      " |      list of weak references to the object\n",
      "\n"
     ]
    }
   ],
   "source": []
  },
  {
   "cell_type": "code",
   "execution_count": null,
   "id": "1bf679a2-379d-4793-9cdd-0738bd0f6067",
   "metadata": {},
   "outputs": [],
   "source": []
  }
 ],
 "metadata": {
  "kernelspec": {
   "display_name": "Python 3 (ipykernel)",
   "language": "python",
   "name": "python3"
  },
  "language_info": {
   "codemirror_mode": {
    "name": "ipython",
    "version": 3
   },
   "file_extension": ".py",
   "mimetype": "text/x-python",
   "name": "python",
   "nbconvert_exporter": "python",
   "pygments_lexer": "ipython3",
   "version": "3.12.9"
  }
 },
 "nbformat": 4,
 "nbformat_minor": 5
}
